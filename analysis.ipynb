{
 "cells": [
  {
   "cell_type": "code",
   "execution_count": null,
   "metadata": {
    "id": "muqPhX22S_oE"
   },
   "outputs": [],
   "source": [
    "import pandas as pd\n",
    "import numpy as np\n",
    "import matplotlib.pyplot as plt\n",
    "import seaborn as sns\n",
    "\n",
    "from scipy import stats\n",
    "from sklearn.model_selection import train_test_split\n",
    "from sklearn.impute import SimpleImputer\n",
    "from sklearn.preprocessing import OneHotEncoder, MinMaxScaler, StandardScaler\n",
    "from sklearn.compose import ColumnTransformer\n",
    "from sklearn.pipeline import Pipeline\n",
    "from sklearn.cluster import KMeans\n",
    "from sklearn.decomposition import PCA"
   ]
  },
  {
   "cell_type": "code",
   "execution_count": null,
   "metadata": {
    "colab": {
     "base_uri": "https://localhost:8080/",
     "height": 444
    },
    "executionInfo": {
     "elapsed": 1369,
     "status": "ok",
     "timestamp": 1733431659181,
     "user": {
      "displayName": "akara",
      "userId": "03294495074658875410"
     },
     "user_tz": -120
    },
    "id": "4DLKZZ-sTIm0",
    "outputId": "c4a44b89-ffe5-48b9-e53c-6c4ea7562e27"
   },
   "outputs": [],
   "source": [
    "df = pd.read_csv('data')\n",
    "df"
   ]
  },
  {
   "cell_type": "code",
   "execution_count": null,
   "metadata": {
    "colab": {
     "base_uri": "https://localhost:8080/"
    },
    "executionInfo": {
     "elapsed": 740,
     "status": "ok",
     "timestamp": 1733431666401,
     "user": {
      "displayName": "akara",
      "userId": "03294495074658875410"
     },
     "user_tz": -120
    },
    "id": "myirYTzslA_j",
    "outputId": "7c893ff7-8e46-4d7a-a227-4b93e3afcc13"
   },
   "outputs": [],
   "source": [
    "df.info()"
   ]
  },
  {
   "cell_type": "code",
   "execution_count": null,
   "metadata": {
    "colab": {
     "base_uri": "https://localhost:8080/",
     "height": 458
    },
    "executionInfo": {
     "elapsed": 236,
     "status": "ok",
     "timestamp": 1733431691243,
     "user": {
      "displayName": "akara",
      "userId": "03294495074658875410"
     },
     "user_tz": -120
    },
    "id": "C2mX-tLslG7s",
    "outputId": "22c03451-eb54-4925-e55a-a042882d0563"
   },
   "outputs": [],
   "source": [
    "df['Dt_Customer']"
   ]
  },
  {
   "cell_type": "code",
   "execution_count": null,
   "metadata": {
    "colab": {
     "base_uri": "https://localhost:8080/",
     "height": 444
    },
    "executionInfo": {
     "elapsed": 252,
     "status": "ok",
     "timestamp": 1733433091560,
     "user": {
      "displayName": "akara",
      "userId": "03294495074658875410"
     },
     "user_tz": -120
    },
    "id": "zz_VRo-ulLu5",
    "outputId": "0c92859c-cc78-4bc3-e336-1c967e93a4e7"
   },
   "outputs": [],
   "source": [
    "df_copy = pd.read_csv('data', parse_dates=['Dt_Customer'])\n",
    "df_copy"
   ]
  },
  {
   "cell_type": "code",
   "execution_count": null,
   "metadata": {
    "colab": {
     "base_uri": "https://localhost:8080/"
    },
    "executionInfo": {
     "elapsed": 233,
     "status": "ok",
     "timestamp": 1733433093252,
     "user": {
      "displayName": "akara",
      "userId": "03294495074658875410"
     },
     "user_tz": -120
    },
    "id": "MVQzC8jNmFER",
    "outputId": "3afc8e07-c8dd-43bf-88fa-a80c9f8c192c"
   },
   "outputs": [],
   "source": [
    "df_copy['Dt_Customer'] = pd.to_datetime(df['Dt_Customer'], format='%d-%m-%Y')\n",
    "df_copy.info()"
   ]
  },
  {
   "cell_type": "code",
   "execution_count": null,
   "metadata": {
    "colab": {
     "base_uri": "https://localhost:8080/",
     "height": 896
    },
    "executionInfo": {
     "elapsed": 278,
     "status": "ok",
     "timestamp": 1733433094672,
     "user": {
      "displayName": "akara",
      "userId": "03294495074658875410"
     },
     "user_tz": -120
    },
    "id": "1mqGd4vSnas7",
    "outputId": "8508e10e-53b5-45b9-c642-21ea109024e5"
   },
   "outputs": [],
   "source": [
    "df_copy.describe().T"
   ]
  },
  {
   "cell_type": "code",
   "execution_count": null,
   "metadata": {
    "colab": {
     "base_uri": "https://localhost:8080/",
     "height": 994
    },
    "executionInfo": {
     "elapsed": 240,
     "status": "ok",
     "timestamp": 1733433096143,
     "user": {
      "displayName": "akara",
      "userId": "03294495074658875410"
     },
     "user_tz": -120
    },
    "id": "FKCEBSQAnk1R",
    "outputId": "32b145f9-fb8d-4fb4-cf0b-141590e10879"
   },
   "outputs": [],
   "source": [
    "df_copy.isna().sum()"
   ]
  },
  {
   "cell_type": "code",
   "execution_count": null,
   "metadata": {
    "id": "2qHdrWounpq9"
   },
   "outputs": [],
   "source": [
    "df_copy = df_copy.dropna()"
   ]
  },
  {
   "cell_type": "code",
   "execution_count": null,
   "metadata": {
    "colab": {
     "base_uri": "https://localhost:8080/",
     "height": 444
    },
    "executionInfo": {
     "elapsed": 236,
     "status": "ok",
     "timestamp": 1733433099760,
     "user": {
      "displayName": "akara",
      "userId": "03294495074658875410"
     },
     "user_tz": -120
    },
    "id": "OOlsqxmnnsks",
    "outputId": "cb2e8ca6-0b0e-49ec-ab95-80a657cc2dad"
   },
   "outputs": [],
   "source": [
    "df_copy = df_copy.sort_values(by=['Dt_Customer'], ignore_index=True)\n",
    "df_copy"
   ]
  },
  {
   "cell_type": "code",
   "execution_count": null,
   "metadata": {
    "colab": {
     "base_uri": "https://localhost:8080/",
     "height": 444
    },
    "executionInfo": {
     "elapsed": 241,
     "status": "ok",
     "timestamp": 1733433111111,
     "user": {
      "displayName": "akara",
      "userId": "03294495074658875410"
     },
     "user_tz": -120
    },
    "id": "ufE0H5u4nvCi",
    "outputId": "e6475491-420a-43bf-f237-cb201948182b"
   },
   "outputs": [],
   "source": [
    "df_copy['Age'] = 2024-df_copy['Year_Birth']\n",
    "df_copy"
   ]
  },
  {
   "cell_type": "code",
   "execution_count": null,
   "metadata": {
    "colab": {
     "base_uri": "https://localhost:8080/"
    },
    "executionInfo": {
     "elapsed": 224,
     "status": "ok",
     "timestamp": 1733433113007,
     "user": {
      "displayName": "akara",
      "userId": "03294495074658875410"
     },
     "user_tz": -120
    },
    "id": "tsXzOCQpqWQi",
    "outputId": "32a10344-c12e-47ef-a523-e4740393f9c6"
   },
   "outputs": [],
   "source": [
    "mnt_cols = [col for col in df_copy.columns if col.startswith('Mnt')]\n",
    "mnt_cols"
   ]
  },
  {
   "cell_type": "code",
   "execution_count": null,
   "metadata": {
    "id": "Du8uLG-3qPCb"
   },
   "outputs": [],
   "source": [
    "df_copy['Total_Amount'] = df_copy[mnt_cols].sum(axis=1)"
   ]
  },
  {
   "cell_type": "code",
   "execution_count": null,
   "metadata": {
    "colab": {
     "base_uri": "https://localhost:8080/"
    },
    "executionInfo": {
     "elapsed": 4,
     "status": "ok",
     "timestamp": 1733433468166,
     "user": {
      "displayName": "akara",
      "userId": "03294495074658875410"
     },
     "user_tz": -120
    },
    "id": "dL5PiZJEqncD",
    "outputId": "02069ae5-7fe1-4a18-b751-03650131422d"
   },
   "outputs": [],
   "source": [
    "purc_cols = [col for col in df_copy.columns if col.endswith('Purchases')]\n",
    "purc_cols"
   ]
  },
  {
   "cell_type": "code",
   "execution_count": null,
   "metadata": {
    "id": "CPZWYg_8r2Th"
   },
   "outputs": [],
   "source": [
    "df_copy['Total_Purchase'] = df_copy[purc_cols].sum(axis=1)"
   ]
  },
  {
   "cell_type": "code",
   "execution_count": null,
   "metadata": {
    "id": "OzUcukNXsLgF"
   },
   "outputs": [],
   "source": [
    "df_copy = df_copy.drop(['ID', 'Year_Birth'], axis=1)"
   ]
  },
  {
   "cell_type": "code",
   "execution_count": null,
   "metadata": {
    "colab": {
     "base_uri": "https://localhost:8080/",
     "height": 1000
    },
    "executionInfo": {
     "elapsed": 5612,
     "status": "ok",
     "timestamp": 1733433781050,
     "user": {
      "displayName": "akara",
      "userId": "03294495074658875410"
     },
     "user_tz": -120
    },
    "id": "Z-DrAvT0saO2",
    "outputId": "0d0f96c1-1bf1-479f-dcd1-a5970d343849"
   },
   "outputs": [],
   "source": [
    "df_copy.hist(grid=False, bins=20, figsize=(12, 10))\n",
    "plt.tight_layout();"
   ]
  },
  {
   "cell_type": "code",
   "execution_count": null,
   "metadata": {
    "colab": {
     "base_uri": "https://localhost:8080/",
     "height": 668
    },
    "executionInfo": {
     "elapsed": 950,
     "status": "ok",
     "timestamp": 1733434097249,
     "user": {
      "displayName": "akara",
      "userId": "03294495074658875410"
     },
     "user_tz": -120
    },
    "id": "9zI3wI54s9O3",
    "outputId": "8771e125-ec0c-4c07-9da7-efd354d58139"
   },
   "outputs": [],
   "source": [
    "df_copy[['Dt_Customer', 'Total_Amount']].set_index('Dt_Customer').plot(figsize=(10, 8))"
   ]
  },
  {
   "cell_type": "code",
   "execution_count": null,
   "metadata": {
    "colab": {
     "base_uri": "https://localhost:8080/",
     "height": 936
    },
    "executionInfo": {
     "elapsed": 3215,
     "status": "ok",
     "timestamp": 1733434197646,
     "user": {
      "displayName": "akara",
      "userId": "03294495074658875410"
     },
     "user_tz": -120
    },
    "id": "wPjFXEEbua8l",
    "outputId": "0702944b-0334-4920-c62a-98cdc60eb39d"
   },
   "outputs": [],
   "source": [
    "plt.figure(figsize=(20,10))\n",
    "sns.heatmap(df_copy.corr(numeric_only=True), annot = True)"
   ]
  },
  {
   "cell_type": "code",
   "execution_count": null,
   "metadata": {
    "id": "IBYl_mrUu5vh"
   },
   "outputs": [],
   "source": [
    "df_copy = df_copy.drop('Dt_Customer', axis=1)"
   ]
  },
  {
   "cell_type": "code",
   "execution_count": null,
   "metadata": {
    "id": "e-L2b-gIu1Db"
   },
   "outputs": [],
   "source": [
    "num_cols = [col for col in df_copy.columns if pd.api.types.is_numeric_dtype(df_copy[col])]\n",
    "cat_cols = [col for col in df_copy.columns if col not in num_cols]"
   ]
  },
  {
   "cell_type": "code",
   "execution_count": null,
   "metadata": {
    "colab": {
     "base_uri": "https://localhost:8080/"
    },
    "executionInfo": {
     "elapsed": 253,
     "status": "ok",
     "timestamp": 1733434247724,
     "user": {
      "displayName": "akara",
      "userId": "03294495074658875410"
     },
     "user_tz": -120
    },
    "id": "5qPSIPpIu336",
    "outputId": "aecb0892-a5ac-49cd-e4fc-00e155b316a9"
   },
   "outputs": [],
   "source": [
    "cat_cols"
   ]
  },
  {
   "cell_type": "code",
   "execution_count": null,
   "metadata": {
    "colab": {
     "base_uri": "https://localhost:8080/"
    },
    "executionInfo": {
     "elapsed": 221,
     "status": "ok",
     "timestamp": 1733434302452,
     "user": {
      "displayName": "akara",
      "userId": "03294495074658875410"
     },
     "user_tz": -120
    },
    "id": "W22a592su-b2",
    "outputId": "c602924b-d30f-4066-e866-5418f0709ea6"
   },
   "outputs": [],
   "source": [
    "df_copy['Education'].nunique()"
   ]
  },
  {
   "cell_type": "code",
   "execution_count": null,
   "metadata": {
    "id": "OLEXYgEuvGfC"
   },
   "outputs": [],
   "source": [
    "scaler = StandardScaler()\n",
    "onehot = OneHotEncoder()\n",
    "\n",
    "preprocessor = ColumnTransformer([('numeric', scaler, num_cols), ('categorical', onehot, cat_cols)])\n",
    "\n",
    "df_copy_scaled = preprocessor.fit_transform(df_copy)"
   ]
  },
  {
   "cell_type": "code",
   "execution_count": null,
   "metadata": {
    "colab": {
     "base_uri": "https://localhost:8080/"
    },
    "executionInfo": {
     "elapsed": 239,
     "status": "ok",
     "timestamp": 1733434719553,
     "user": {
      "displayName": "akara",
      "userId": "03294495074658875410"
     },
     "user_tz": -120
    },
    "id": "UlLQqVX8wqm6",
    "outputId": "eac4d59a-7a86-4626-b046-1a3f5faf3195"
   },
   "outputs": [],
   "source": [
    "df_copy_scaled"
   ]
  },
  {
   "cell_type": "code",
   "execution_count": null,
   "metadata": {
    "colab": {
     "base_uri": "https://localhost:8080/"
    },
    "executionInfo": {
     "elapsed": 250,
     "status": "ok",
     "timestamp": 1733435168432,
     "user": {
      "displayName": "akara",
      "userId": "03294495074658875410"
     },
     "user_tz": -120
    },
    "id": "iC6e0IPOyYRb",
    "outputId": "03d7d415-d42b-4717-959a-8f3f9759ebb7"
   },
   "outputs": [],
   "source": [
    "df_copy_scaled.shape"
   ]
  },
  {
   "cell_type": "code",
   "execution_count": null,
   "metadata": {
    "id": "VBZeDldcyt25"
   },
   "outputs": [],
   "source": [
    "df_copy_ = pd.DataFrame(df_copy_scaled, columns=preprocessor.get_feature_names_out())"
   ]
  },
  {
   "cell_type": "code",
   "execution_count": null,
   "metadata": {
    "colab": {
     "base_uri": "https://localhost:8080/",
     "height": 470
    },
    "executionInfo": {
     "elapsed": 1065,
     "status": "ok",
     "timestamp": 1733434944082,
     "user": {
      "displayName": "akara",
      "userId": "03294495074658875410"
     },
     "user_tz": -120
    },
    "id": "WF88uyMNxVHS",
    "outputId": "573b281e-cd26-40d3-aabc-7e656aa85c8c"
   },
   "outputs": [],
   "source": [
    "scores_1 = []\n",
    "\n",
    "range_values = range(1, 20)\n",
    "\n",
    "for i in range_values:\n",
    "  kmeans = KMeans(n_clusters = i)\n",
    "  kmeans.fit(df_copy_scaled)\n",
    "  scores_1.append(kmeans.inertia_)\n",
    "\n",
    "plt.plot(scores_1, 'bx-')\n",
    "plt.xlabel('Clusters')\n",
    "plt.ylabel('Scores')"
   ]
  },
  {
   "cell_type": "code",
   "execution_count": null,
   "metadata": {
    "id": "qwyInwBGyHBr"
   },
   "outputs": [],
   "source": [
    "kmeans = KMeans(10)\n",
    "kmeans.fit(df_copy_scaled)\n",
    "labels = kmeans.labels_"
   ]
  },
  {
   "cell_type": "code",
   "execution_count": null,
   "metadata": {
    "colab": {
     "base_uri": "https://localhost:8080/"
    },
    "executionInfo": {
     "elapsed": 254,
     "status": "ok",
     "timestamp": 1733435962888,
     "user": {
      "displayName": "akara",
      "userId": "03294495074658875410"
     },
     "user_tz": -120
    },
    "id": "KbWVzdBFyKJk",
    "outputId": "980edcd0-615a-42f2-e212-25405d99b093"
   },
   "outputs": [],
   "source": [
    "kmeans.cluster_centers_.shape"
   ]
  },
  {
   "cell_type": "code",
   "execution_count": null,
   "metadata": {
    "id": "BB_Jv-ZkyMPF"
   },
   "outputs": [],
   "source": [
    "# cluster_centers = pd.DataFrame(data = kmeans.cluster_centers_, columns = [df_copy_.columns])\n",
    "# cluster_centers"
   ]
  },
  {
   "cell_type": "code",
   "execution_count": null,
   "metadata": {
    "colab": {
     "base_uri": "https://localhost:8080/"
    },
    "executionInfo": {
     "elapsed": 222,
     "status": "ok",
     "timestamp": 1733435965273,
     "user": {
      "displayName": "akara",
      "userId": "03294495074658875410"
     },
     "user_tz": -120
    },
    "id": "dXYyw3w-zc8D",
    "outputId": "593f8ef4-6fbb-461f-9925-d8573c9b50b7"
   },
   "outputs": [],
   "source": [
    "y_kmeans = kmeans.fit_predict(df_copy_scaled)\n",
    "y_kmeans"
   ]
  },
  {
   "cell_type": "code",
   "execution_count": null,
   "metadata": {
    "colab": {
     "base_uri": "https://localhost:8080/",
     "height": 444
    },
    "executionInfo": {
     "elapsed": 568,
     "status": "ok",
     "timestamp": 1733436065229,
     "user": {
      "displayName": "akara",
      "userId": "03294495074658875410"
     },
     "user_tz": -120
    },
    "id": "zTsYZTT4zkuB",
    "outputId": "94b2cbda-cb10-4983-a17a-812f59601f76"
   },
   "outputs": [],
   "source": [
    "df_copy_cluster = pd.concat([df_copy_, pd.DataFrame({'cluster':labels})], axis = 1)\n",
    "df_copy_cluster"
   ]
  },
  {
   "cell_type": "code",
   "execution_count": null,
   "metadata": {
    "colab": {
     "base_uri": "https://localhost:8080/",
     "height": 1000,
     "output_embedded_package_id": "1GtQkUGQRE0ti0eBmdMeFGefx9lSdiqg6"
    },
    "executionInfo": {
     "elapsed": 77757,
     "status": "ok",
     "timestamp": 1733436157095,
     "user": {
      "displayName": "akara",
      "userId": "03294495074658875410"
     },
     "user_tz": -120
    },
    "id": "J-3X-u3Tz1qs",
    "outputId": "3b685938-b976-4601-84c2-ecd483932bf7"
   },
   "outputs": [],
   "source": [
    "for i in df_copy_.columns:\n",
    "  plt.figure(figsize = (30, 5))\n",
    "  for j in range(8):\n",
    "    plt.subplot(1,8,j+1)\n",
    "    cluster = df_copy_cluster[df_copy_cluster['cluster'] == j]\n",
    "    cluster[i].hist(bins = 20)\n",
    "    plt.title('{}    \\nCluster {} '.format(i,j))"
   ]
  },
  {
   "cell_type": "code",
   "execution_count": null,
   "metadata": {
    "id": "nmuplWaK2Px-"
   },
   "outputs": [],
   "source": [
    "import pickle\n",
    "\n",
    "pickle.dump(kmeans, open(\"data\", \"wb\"))"
   ]
  }
 ],
 "metadata": {
  "colab": {
   "authorship_tag": "ABX9TyM2X1Ef/lCbTY7uvx40fGUd",
   "mount_file_id": "1aSemBrcf08jLiGI6yH-Yio94vdoCIOlk",
   "provenance": []
  },
  "kernelspec": {
   "display_name": "Python 3",
   "name": "python3"
  },
  "language_info": {
   "name": "python"
  }
 },
 "nbformat": 4,
 "nbformat_minor": 0
}
